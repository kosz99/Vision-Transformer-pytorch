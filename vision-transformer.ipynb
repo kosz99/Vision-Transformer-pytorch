{
 "cells": [
  {
   "cell_type": "markdown",
   "metadata": {},
   "source": [
    "### This is my implementation of Vision Transformer(https://arxiv.org/pdf/2010.11929.pdf)\n",
    "\n",
    "![Vit image](vit.png)\n"
   ]
  },
  {
   "cell_type": "code",
   "execution_count": 73,
   "metadata": {},
   "outputs": [],
   "source": [
    "import torch\n",
    "import torch.nn as nn\n",
    "import numpy as np"
   ]
  },
  {
   "cell_type": "code",
   "execution_count": 74,
   "metadata": {},
   "outputs": [],
   "source": [
    "class ImageToPatchEmbeddings(nn.Module):\n",
    "    def __init__(self, latent_dim, patch_size):\n",
    "        super().__init__()\n",
    "        self.patch_size = patch_size\n",
    "        self.latent_dim = latent_dim\n",
    "\n",
    "        self.lin_projection = nn.Linear(3*self.patch_size*self.patch_size, self.latent_dim, bias = False)\n",
    "\n",
    "        self.class_embedding = nn.Linear(self.latent_dim, self.latent_dim, bias = False)\n",
    "\n",
    "        self.learnable_positional_enbedding = nn.Linear(self.latent_dim, self.latent_dim, bias = False)\n",
    "\n",
    "    def forward(self, x):\n",
    "        x = x.unfold(-2, self.patch_size, self.patch_size)\n",
    "        x = x.unfold(-2, self.patch_size, self.patch_size)\n",
    "        x = x.movedim(1,-3)\n",
    "        x = x.flatten(1,2)\n",
    "        x = x.flatten(-3,-1)\n",
    "\n",
    "        x = self.lin_projection(x)\n",
    "\n",
    "        pos = self.positions(x.shape[1], x.shape[2])\n",
    "        pos_embedding = self.learnable_positional_enbedding(pos)\n",
    "\n",
    "        x = x+pos_embedding\n",
    "\n",
    "        ones = torch.ones(x.shape[0], 1, self.latent_dim)\n",
    "        cls_embedding = self.class_embedding(ones)\n",
    "\n",
    "        embeddings = torch.cat((cls_embedding, x), 1)\n",
    "\n",
    "        return embeddings\n",
    "    \n",
    "    def positions(self, num_patch, latent_dim):\n",
    "        x = torch.ones(num_patch, latent_dim)\n",
    "        for i in range(num_patch):\n",
    "            x[i,:]*=i+1\n",
    "        \n",
    "        return x\n"
   ]
  },
  {
   "cell_type": "code",
   "execution_count": 75,
   "metadata": {},
   "outputs": [],
   "source": [
    "class CreateQKV(nn.Module):\n",
    "    def __init__(self, d_model):\n",
    "        super().__init__()\n",
    "\n",
    "        self.WQ = nn.Linear(d_model, d_model, bias= False)\n",
    "        self.WK = nn.Linear(d_model, d_model, bias= False)\n",
    "        self.WV = nn.Linear(d_model, d_model, bias= False)\n",
    "\n",
    "    def forward(self, x):\n",
    "        return self.WQ(x), self.WK(x), self.WV(x)"
   ]
  },
  {
   "cell_type": "code",
   "execution_count": 76,
   "metadata": {},
   "outputs": [],
   "source": [
    "    def Attention(query, key, values):\n",
    "        dk = query.size(1)\n",
    "        scores = nn.functional.softmax((torch.matmul(query, key.transpose(-2, -1))/np.sqrt(dk)), dim = -1)\n",
    "\n",
    "        return torch.matmul(scores, values)"
   ]
  },
  {
   "cell_type": "code",
   "execution_count": 77,
   "metadata": {},
   "outputs": [],
   "source": [
    "class MultiHeadAttention(nn.Module):\n",
    "    def __init__(self, d_model, heads):\n",
    "        super().__init__()\n",
    "        self.d_model = d_model\n",
    "        self.heads = heads\n",
    "\n",
    "        self.WQ = nn.ModuleList([nn.Linear(self.d_model,(self.d_model//self.heads), bias= False) for _ in range(self.heads)])\n",
    "        self.WK = nn.ModuleList([nn.Linear(self.d_model,(self.d_model//self.heads), bias= False) for _ in range(self.heads)])\n",
    "        self.WV = nn.ModuleList([nn.Linear(self.d_model,(self.d_model//self.heads), bias= False) for _ in range(self.heads)])\n",
    "        self.WO = nn.Linear(self.d_model, self.d_model, bias = False)\n",
    "    \n",
    "    def forward(self, query, key, values):\n",
    "        attn = []\n",
    "        for i in range(self.heads):\n",
    "            q = self.WQ[i](query)\n",
    "            k = self.WK[i](key)\n",
    "            v = self.WV[i](values)\n",
    "            \n",
    "            attn.append(Attention(q, k, v))\n",
    "        \n",
    "        cat_attn = torch.cat(attn, dim = -1)\n",
    "\n",
    "        return self.WO(cat_attn)"
   ]
  },
  {
   "cell_type": "code",
   "execution_count": 78,
   "metadata": {},
   "outputs": [],
   "source": [
    "class TransformerEncoder(nn.Module):\n",
    "    def __init__(self, num_heads, latent_dim):\n",
    "        super().__init__()\n",
    "\n",
    "        self.layer_norm1 = nn.LayerNorm(latent_dim)\n",
    "        self.layer_norm2 = nn.LayerNorm(latent_dim)\n",
    "        self.qkv = CreateQKV(latent_dim)\n",
    "        self.MSA = MultiHeadAttention(latent_dim, num_heads)\n",
    "        self.linear = nn.Linear(latent_dim, latent_dim)\n",
    "        self.activation = nn.GELU()\n",
    "\n",
    "\n",
    "    def forward(self, x):\n",
    "        x_norm1 = self.layer_norm1(x)\n",
    "        q, k, v = self.qkv(x_norm1)\n",
    "        attention = self.MSA(q, k, v)\n",
    "        add1 = x+attention\n",
    "        x_norm2 = self.layer_norm2(add1)\n",
    "        x_norm2 = self.activation(self.linear(x_norm2))\n",
    "\n",
    "        return x_norm2+add1\n",
    "\n"
   ]
  },
  {
   "cell_type": "code",
   "execution_count": 79,
   "metadata": {},
   "outputs": [],
   "source": [
    "class VIT(nn.Module):\n",
    "    def __init__(self,patch_size, num_heads, latent_dim, num_classes, num_encoder):\n",
    "        super().__init__()\n",
    "\n",
    "        self.embs = ImageToPatchEmbeddings(latent_dim, patch_size)\n",
    "        self.encoder = nn.Sequential(*[TransformerEncoder(num_heads, latent_dim) for _ in range(num_encoder)])\n",
    "        self.lin1 = nn.Linear(latent_dim, latent_dim)\n",
    "        self.act = nn.GELU()\n",
    "        self.lin2 = nn.Linear(latent_dim, num_classes)\n",
    "    \n",
    "    def forward(self, x):\n",
    "        embds = self.embs(x)\n",
    "        encds = self.encoder(embds)\n",
    "        output = self.lin2(self.act(self.lin1(encds[:,0,:])))\n",
    "\n",
    "        return output"
   ]
  },
  {
   "cell_type": "code",
   "execution_count": 83,
   "metadata": {},
   "outputs": [
    {
     "data": {
      "text/plain": [
       "torch.Size([128, 10])"
      ]
     },
     "execution_count": 83,
     "metadata": {},
     "output_type": "execute_result"
    }
   ],
   "source": [
    "vit = VIT(16, 8, 512, 10, 6)\n",
    "sample_imgs = torch.rand(128, 3, 128, 128)\n",
    "vit(sample_imgs).shape"
   ]
  }
 ],
 "metadata": {
  "kernelspec": {
   "display_name": "Python 3",
   "language": "python",
   "name": "python3"
  },
  "language_info": {
   "codemirror_mode": {
    "name": "ipython",
    "version": 3
   },
   "file_extension": ".py",
   "mimetype": "text/x-python",
   "name": "python",
   "nbconvert_exporter": "python",
   "pygments_lexer": "ipython3",
   "version": "3.8.5"
  },
  "orig_nbformat": 4
 },
 "nbformat": 4,
 "nbformat_minor": 2
}
